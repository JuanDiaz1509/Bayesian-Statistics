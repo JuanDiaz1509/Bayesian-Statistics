{
  "cells": [
    {
      "cell_type": "markdown",
      "metadata": {
        "id": "CcZ_jA3Xw5iS"
      },
      "source": [
        "# Disparidad en Tiempos de Reparación: Un Análisis entre Verizon (ILEC) y Competidores (CLEC)\n",
        "\n",
        "Verizon es la principal empresa de telecomunicaciones en una amplia zona del este de Estados Unidos, conocida como ILEC (Incumbent Local Exchange Carrier). Como ILEC, tiene la responsabilidad de ofrecer servicios de reparación a los clientes de otras compañías telefónicas que compiten en esta región, denominadas CLEC (Competing Local Exchange Carrier).\n",
        "\n",
        "Verizon está sujeto a sanciones si los tiempos de reparación para los clientes de CLEC son considerablemente peores que los tiempos de reparación para los clientes de Verizon. Para evaluar esta situación, se ha recopilado un conjunto de datos de Verizon que incluye muestras de los tiempos de reparación para dos grupos: uno con 1664 clientes de Verizon (ILEC) y otro con 23 clientes de la competencia (CLEC).\n",
        "\n",
        "El objetivo es determinar si existe una diferencia significativa entre los tiempos promedio de reparación de estos dos grupos, lo que podría considerarse como evidencia para tomar medidas, como imponer sanciones a Verizon. Para cumplir con el objetivo de estudio, se propone el análisis en tres momentos claves:\n",
        "\n",
        "- **Análisis Bayesiano**. En este momento consideraremos lo siguiente:\n",
        "\\begin{align*}\n",
        "    y_{k,i} &\\stackrel{\\text{iid}}{\\sim} \\text{Exp}(\\lambda_k) \\hspace{0.25cm} y_{k,i} > 0, \\hspace{0.25cm} \\lambda_k > 0  \\\\\n",
        "    \\lambda_k  &\\sim \\text{GI}(a_k, b_k)\n",
        "\\end{align*}\n",
        "Donde i = 1, $...$, $n_k$ y $k$ = 1, 2. Los valores de $k$ corresponden a ILEC y CLEC, respectivamente. Por lo tanto, la distribución posterior:\n",
        "\\begin{align*}\n",
        "    \\lambda_k | {y_{k}} \\sim \\text{GI}(a_k + n_k, b_k + s_k)\n",
        "\\end{align*}\n",
        "Donde $a_k$ y $b_k$  son hiperparámetros conocidos para cada grupo y $s_k = \\sum_{i=1}^{n_k} y_{k,i}$. En consecuencia, la inferencia sobre la diferencia entre los tiempos promedio de reparación sería alrededor de:\n",
        "$\\eta = \\lambda_1 - \\lambda_2$.\n",
        "\n",
        "- **Análisis frecuentista**. En este momento, vamos a considerar \\textit{Bootstrap} parámetrico, \\textit{Bootstrap} no paramétrico y la teoría asintontica de MLE. Para esta última tengase en cuenta lo siguiente:\n",
        "\\begin{align*}\n",
        "    \\hat{\\lambda}_{k,\\text{MLE}} = \\bar{y}_k, \\hspace{0.5cm} \\bar{y}_k = \\frac{1}{n_k}\\sum_{i=1}^{n_k}y_{k,i}\\\\\n",
        "    \\widehat{\\eta}_{\\text{MLE}} = \\hat{\\lambda}_{1,\\text{MLE}} - \\hat{\\lambda}_{2,\\text{MLE}}\n",
        "\\end{align*}\n",
        "Dado la teoría asintotica de la estimación por MLE, $\\lambda_k \\stackrel{\\text{A}}{\\sim} N(\\hat{\\lambda}_k, I_{k}^{-1})$. Por lo tanto, la distribución asintotica de $\\widehat{\\eta}_{\\text{MLE}}$ es:\n",
        "\\begin{align*}\n",
        "    \\widehat{\\eta}_{k,\\text{MLE}} \\stackrel{\\text{A}}{\\sim} N\\left(\\hat{\\lambda}_1 - \\hat{\\lambda}_2, \\frac{\\bar{y}_1^2}{n_1} + \\frac{\\bar{y}_2^2}{n_2}\\right)\n",
        "\\end{align*}\n",
        "\n",
        "- Simulación de poblaciones exponenciales, en diferentes escenarios aplicando el método Bayesiano, teoría asintótica de MLE, *Bootstrap* paramétrico y no paramétrico.  \n"
      ]
    },
    {
      "cell_type": "code",
      "execution_count": 1,
      "metadata": {
        "id": "1GudPohLwsRr"
      },
      "outputs": [],
      "source": [
        "import pandas as pd\n",
        "import numpy as np\n",
        "import seaborn as sns\n",
        "import scipy.stats as stats\n",
        "import random\n",
        "import matplotlib.pyplot as plt"
      ]
    },
    {
      "cell_type": "markdown",
      "metadata": {
        "id": "sVjkHbbw0XAo"
      },
      "source": [
        "## Análisis Bayesiano"
      ]
    },
    {
      "cell_type": "code",
      "execution_count": 2,
      "metadata": {
        "colab": {
          "base_uri": "https://localhost:8080/",
          "height": 206
        },
        "id": "czh_6wW4z5NR",
        "outputId": "1879742d-f7ba-4d6e-bb1f-a263f284cebd"
      },
      "outputs": [
        {
          "data": {
            "text/html": [
              "<div>\n",
              "<style scoped>\n",
              "    .dataframe tbody tr th:only-of-type {\n",
              "        vertical-align: middle;\n",
              "    }\n",
              "\n",
              "    .dataframe tbody tr th {\n",
              "        vertical-align: top;\n",
              "    }\n",
              "\n",
              "    .dataframe thead th {\n",
              "        text-align: right;\n",
              "    }\n",
              "</style>\n",
              "<table border=\"1\" class=\"dataframe\">\n",
              "  <thead>\n",
              "    <tr style=\"text-align: right;\">\n",
              "      <th></th>\n",
              "      <th>Time</th>\n",
              "      <th>Group</th>\n",
              "    </tr>\n",
              "  </thead>\n",
              "  <tbody>\n",
              "    <tr>\n",
              "      <th>0</th>\n",
              "      <td>17.50</td>\n",
              "      <td>ILEC</td>\n",
              "    </tr>\n",
              "    <tr>\n",
              "      <th>1</th>\n",
              "      <td>2.40</td>\n",
              "      <td>ILEC</td>\n",
              "    </tr>\n",
              "    <tr>\n",
              "      <th>2</th>\n",
              "      <td>0.00</td>\n",
              "      <td>ILEC</td>\n",
              "    </tr>\n",
              "    <tr>\n",
              "      <th>3</th>\n",
              "      <td>0.65</td>\n",
              "      <td>ILEC</td>\n",
              "    </tr>\n",
              "    <tr>\n",
              "      <th>4</th>\n",
              "      <td>22.23</td>\n",
              "      <td>ILEC</td>\n",
              "    </tr>\n",
              "  </tbody>\n",
              "</table>\n",
              "</div>"
            ],
            "text/plain": [
              "    Time Group\n",
              "0  17.50  ILEC\n",
              "1   2.40  ILEC\n",
              "2   0.00  ILEC\n",
              "3   0.65  ILEC\n",
              "4  22.23  ILEC"
            ]
          },
          "execution_count": 2,
          "metadata": {},
          "output_type": "execute_result"
        }
      ],
      "source": [
        "import os\n",
        "os.chdir(\"C:\\\\Users\\\\USUARIO\\\\Documents\\\\Universidad\\\\2023-2S\\\\Estadística Bayesiana\\\\Caso 1\")\n",
        "verizon = pd.read_csv('Verizon.csv')\n",
        "verizon.head()"
      ]
    },
    {
      "cell_type": "markdown",
      "metadata": {
        "id": "VU10YPGp00tc"
      },
      "source": [
        "### Distribución posterior de $\\eta$\n",
        "\n",
        "Ajustaremos un modelo Gamma-Inversa-Exponencial, presentado en anteriormente, para esto se propuso como hiperparámetros $a_k = 3$ y $b_k = 17$, para todo valor de $k$. Por lo tanto, ajustado las distribuciones para $\\lambda_k$, se obtiene la distibución de $\\eta$, así como estimaciones puntuales, como la media, el coeficiente de variación - CV y el intervalo de credibilidad - IC al 95\\%. Por lo tanto, se obtienen los siguientes resultados:"
      ]
    },
    {
      "cell_type": "code",
      "execution_count": 3,
      "metadata": {
        "id": "xd2dWxdz0RsI"
      },
      "outputs": [
        {
          "data": {
            "text/html": [
              "<div>\n",
              "<style scoped>\n",
              "    .dataframe tbody tr th:only-of-type {\n",
              "        vertical-align: middle;\n",
              "    }\n",
              "\n",
              "    .dataframe tbody tr th {\n",
              "        vertical-align: top;\n",
              "    }\n",
              "\n",
              "    .dataframe thead th {\n",
              "        text-align: right;\n",
              "    }\n",
              "</style>\n",
              "<table border=\"1\" class=\"dataframe\">\n",
              "  <thead>\n",
              "    <tr style=\"text-align: right;\">\n",
              "      <th></th>\n",
              "      <th>Grupo</th>\n",
              "      <th>Tamaños</th>\n",
              "      <th>Media</th>\n",
              "      <th>SD</th>\n",
              "      <th>Est. Suf</th>\n",
              "    </tr>\n",
              "  </thead>\n",
              "  <tbody>\n",
              "    <tr>\n",
              "      <th>0</th>\n",
              "      <td>ILEC</td>\n",
              "      <td>1664</td>\n",
              "      <td>8.411611</td>\n",
              "      <td>14.690039</td>\n",
              "      <td>13996.92</td>\n",
              "    </tr>\n",
              "    <tr>\n",
              "      <th>1</th>\n",
              "      <td>CLEC</td>\n",
              "      <td>23</td>\n",
              "      <td>16.509130</td>\n",
              "      <td>19.503576</td>\n",
              "      <td>379.71</td>\n",
              "    </tr>\n",
              "  </tbody>\n",
              "</table>\n",
              "</div>"
            ],
            "text/plain": [
              "  Grupo  Tamaños      Media         SD  Est. Suf\n",
              "0  ILEC     1664   8.411611  14.690039  13996.92\n",
              "1  CLEC       23  16.509130  19.503576    379.71"
            ]
          },
          "execution_count": 3,
          "metadata": {},
          "output_type": "execute_result"
        }
      ],
      "source": [
        "Y1 = verizon.query('Group == \"ILEC\"')['Time']\n",
        "Y2 = verizon.query('Group == \"CLEC\"')['Time']\n",
        "\n",
        "#Tamños de grupos\n",
        "n1 = len(Y1)\n",
        "n2 = len(Y2)\n",
        "\n",
        "#Estadísticas suficientes\n",
        "s1 = Y1.sum()\n",
        "s2 = Y2.sum()\n",
        "\n",
        "# Medias del timepo de reparación grupo\n",
        "MeanY1 = Y1.mean()\n",
        "MeanY2 = Y2.mean()\n",
        "\n",
        "#Desvíos estandar del tiempo reparación\n",
        "sdY1 = Y1.std()\n",
        "sdY2 = Y2.std()\n",
        "\n",
        "pd.DataFrame({'Grupo':['ILEC', 'CLEC'],'Tamaños':[n1, n2], 'Media': [MeanY1, MeanY2],\n",
        "              'SD':[sdY1, sdY2], 'Est. Suf':[s1, s2]})"
      ]
    },
    {
      "cell_type": "code",
      "execution_count": 4,
      "metadata": {
        "colab": {
          "base_uri": "https://localhost:8080/",
          "height": 476
        },
        "id": "Yl_HH0Ph3mKr",
        "outputId": "d4e8c690-6f9e-4297-8af1-b33d95539375"
      },
      "outputs": [
        {
          "data": {
            "image/png": "[encoded data removed]",
            "text/plain": [
              "<Figure size 432x288 with 1 Axes>"
            ]
          },
          "metadata": {
            "needs_background": "light"
          },
          "output_type": "display_data"
        }
      ],
      "source": [
        "#Hiparámetros\n",
        "ak = 3\n",
        "bk = 17\n",
        "\n",
        "#Parametros posterior - ILEC\n",
        "a1p = ak + n1\n",
        "b1p = bk + s1\n",
        "#Prametros posterior - CLEC\n",
        "a2p = ak + n2\n",
        "b2p = bk + s2\n",
        "\n",
        "#Simulación de monte carlo\n",
        "np.random.seed(79)\n",
        "l1 = stats.invgamma.rvs(size = 10000, a = a1p, scale = b1p)\n",
        "np.random.seed(79)\n",
        "l2 = stats.invgamma.rvs(size = 10000, a = a2p, scale = b2p)\n",
        "eta = l1 - l2\n",
        "\n",
        "#Distribución posterior de eta\n",
        "sns.histplot(data = eta, bins = 30, color = 'gray', edgecolor = 'gray',\n",
        "             label = 'Histograma', stat = 'density')\n",
        "sns.kdeplot(data = eta, color = 'red', label = 'Densidad')\n",
        "plt.axvline(np.percentile(eta, q = 2.5), color='green', linestyle='dashed', linewidth=2, label='IC 95%')\n",
        "plt.axvline(np.percentile(eta, q = 97.5), color='green', linestyle='dashed', linewidth=2)\n",
        "plt.axvline(eta.mean(), color='blue', linewidth=1.5, label = 'Media')\n",
        "plt.legend()\n",
        "plt.title(r'Distribución posterior de $\\eta$')\n",
        "plt.xlabel(r'$\\eta$')\n",
        "plt.ylabel(r'p$(\\eta | \\lambda_k)$')\n",
        "plt.show()"
      ]
    },
    {
      "cell_type": "code",
      "execution_count": 5,
      "metadata": {
        "colab": {
          "base_uri": "https://localhost:8080/",
          "height": 81
        },
        "id": "Fh3imVnXNNQd",
        "outputId": "bcddeb9c-2974-43b9-957f-fc6cca720607"
      },
      "outputs": [
        {
          "data": {
            "text/html": [
              "<div>\n",
              "<style scoped>\n",
              "    .dataframe tbody tr th:only-of-type {\n",
              "        vertical-align: middle;\n",
              "    }\n",
              "\n",
              "    .dataframe tbody tr th {\n",
              "        vertical-align: top;\n",
              "    }\n",
              "\n",
              "    .dataframe thead th {\n",
              "        text-align: right;\n",
              "    }\n",
              "</style>\n",
              "<table border=\"1\" class=\"dataframe\">\n",
              "  <thead>\n",
              "    <tr style=\"text-align: right;\">\n",
              "      <th></th>\n",
              "      <th>Media</th>\n",
              "      <th>CV %</th>\n",
              "      <th>IC inf</th>\n",
              "      <th>IC Sup</th>\n",
              "    </tr>\n",
              "  </thead>\n",
              "  <tbody>\n",
              "    <tr>\n",
              "      <th>0</th>\n",
              "      <td>-7.519226</td>\n",
              "      <td>40.659543</td>\n",
              "      <td>-14.571913</td>\n",
              "      <td>-2.752657</td>\n",
              "    </tr>\n",
              "  </tbody>\n",
              "</table>\n",
              "</div>"
            ],
            "text/plain": [
              "      Media       CV %     IC inf    IC Sup\n",
              "0 -7.519226  40.659543 -14.571913 -2.752657"
            ]
          },
          "execution_count": 5,
          "metadata": {},
          "output_type": "execute_result"
        }
      ],
      "source": [
        "#Resultados\n",
        "pd.DataFrame({'Media': [eta.mean()], 'CV %':[(eta.std()/np.abs(eta.mean()))*100],\n",
        "              'IC inf': [np.percentile(eta, q = 2.5)], 'IC Sup':[np.percentile(eta, q = 97.5)]})"
      ]
    },
    {
      "cell_type": "markdown",
      "metadata": {
        "id": "GOWNeWklMsYn"
      },
      "source": [
        "Basándonos en la gráfica y Tabla enterior, se concluye que el tiempo promedio de reparación de los clientes CLEC es significativamente mayor que el de Verizon. La diferencia media es de -7.51, lo que implica que CLEC tiene un tiempo de reparación 7.46 unidades mayor que Verizon. Además, se observa una alta variabilidad, con una variación relativa del 40.65\\%. Esto se refleja en el Intervalo de Credibilidad, donde, con un 95\\% de confianza, el valor real de $\\eta$ cae en el rango (-14.57, -2.75). Por lo tanto, se debería multar a Verizon dado que los tiempos medios de reparación son peores para los clientes de alguna CLEC."
      ]
    },
    {
      "cell_type": "markdown",
      "metadata": {
        "id": "MjuFdesKNIOc"
      },
      "source": [
        "### Análisis de sensitividad\n",
        "\n",
        "Se realizará un análisis de sentividad considerando, los siguientes estados información externa al conjunto de datos. Para cada estado de información calcularemos la media y el coeficiente de variación - CV, de manera previa y posterior; además el Intervalo de Credibilidad - IC para la posterior.\n",
        "\n",
        "- Estado de información - Previa 1: $a_k = 3$ y $b_k = 17$, para $k = 1,2$\n",
        "- Estado de información - Previa 2: $a_k = 2$ y $b_k = 8.5$, para $k = 1,2$\n",
        "- Estado de información - Previa 3: $a_k = 3$ y $b_1 = 16.8$ y $b_2 = 33$, para $k = 1,2$\n",
        "- Estado de información - Previa 4: $a_k = 2$ y $b_1 = 8.4$ y $b_2 = 16.5$, para $k = 1,2$\n",
        "\n",
        "\n",
        "Las estadísticas para la información previa está dada por la Tabla  a continuación.\n",
        "\n",
        "| Estadísticas   | Previa 1 | Previa 2 | Previa 3 | Previa 4 |\n",
        "| -------------- | -------- | -------- | -------- | -------- |\n",
        "| Media          | 0        | 0        | -8.1     | -8.1     |\n",
        "| CV \\%          | Ind.     | Ind.     | 228.58   | Ind.     |\n",
        "\n",
        "Tras ajustar los hiperparámetros en el análisis Bayesiano de tiempos de reparación entre Verizon (ILEC) y competidores (CLEC), se observa que para la previa 1 y 2 la diferencia del tiempo medio es 0, es decir, que ILEC y CLEC tienen el mismo tiempo medio de reparación, lo cual contrasta con la información que proporciona la previa 3 y 4, las cuáles indican que los tiempos de reparación de CLEC son mayores que las de ILEC. Las indeterminaciones (Ind.) en los coeficientes de variación a priori de Previa 1, 2 y 4 indican una incertidumbre considerable en estas estimaciones, al igual que el coeficiente de variación de la Previa 3, que si bien se conoce, la incertumbre sobre la estimación es sustancial."
      ]
    },
    {
      "cell_type": "code",
      "execution_count": 6,
      "metadata": {
        "id": "kgdd0hy3P-FY"
      },
      "outputs": [],
      "source": [
        "#Hiperparametros\n",
        "a = [3, 2, 3, 2]\n",
        "b1 = [17, 8.5, 16.8, 8.4]\n",
        "b2 = [17, 8.5, 33, 16.5]\n",
        "\n",
        "#Almacenamiento\n",
        "col = ['Previa ' + str(i) for i in range(1, 5)]\n",
        "MC = pd.DataFrame(np.empty((10000, 4)), columns = col)\n",
        "EST = pd.DataFrame(np.empty((4, 4)), columns = col)\n",
        "\n",
        "#Análisis de sensitividad\n",
        "np.random.seed(79)\n",
        "for i in range(0,4):\n",
        "    y = (stats.invgamma.rvs(size = 10000, a = a[i] + n1, scale = b1[i] + s1) -\n",
        "    stats.invgamma.rvs(size = 10000, a = a[i] + n2, scale = b2[i] + s2))\n",
        "    MC[col[i]] = y\n",
        "    EST[col[i]] = [np.mean(y), (np.std(y)/np.abs(y.mean()))*100, np.percentile(y, 2.5), np.percentile(y, 97.5)]"
      ]
    },
    {
      "cell_type": "code",
      "execution_count": 7,
      "metadata": {
        "colab": {
          "base_uri": "https://localhost:8080/",
          "height": 206
        },
        "id": "tNa-EW4OS4HB",
        "outputId": "409d6a9d-8ddd-4e30-a7de-7b4a1608264c"
      },
      "outputs": [
        {
          "data": {
            "text/html": [
              "<div>\n",
              "<style scoped>\n",
              "    .dataframe tbody tr th:only-of-type {\n",
              "        vertical-align: middle;\n",
              "    }\n",
              "\n",
              "    .dataframe tbody tr th {\n",
              "        vertical-align: top;\n",
              "    }\n",
              "\n",
              "    .dataframe thead th {\n",
              "        text-align: right;\n",
              "    }\n",
              "</style>\n",
              "<table border=\"1\" class=\"dataframe\">\n",
              "  <thead>\n",
              "    <tr style=\"text-align: right;\">\n",
              "      <th></th>\n",
              "      <th>Previa 1</th>\n",
              "      <th>Previa 2</th>\n",
              "      <th>Previa 3</th>\n",
              "      <th>Previa 4</th>\n",
              "    </tr>\n",
              "  </thead>\n",
              "  <tbody>\n",
              "    <tr>\n",
              "      <th>0</th>\n",
              "      <td>-10.248932</td>\n",
              "      <td>-11.119048</td>\n",
              "      <td>-4.938926</td>\n",
              "      <td>-11.835306</td>\n",
              "    </tr>\n",
              "    <tr>\n",
              "      <th>1</th>\n",
              "      <td>-5.560560</td>\n",
              "      <td>-6.078879</td>\n",
              "      <td>-3.851925</td>\n",
              "      <td>-11.217732</td>\n",
              "    </tr>\n",
              "    <tr>\n",
              "      <th>2</th>\n",
              "      <td>-12.195170</td>\n",
              "      <td>-13.202318</td>\n",
              "      <td>-6.254161</td>\n",
              "      <td>-15.621740</td>\n",
              "    </tr>\n",
              "    <tr>\n",
              "      <th>3</th>\n",
              "      <td>-7.229681</td>\n",
              "      <td>-7.123358</td>\n",
              "      <td>-6.151414</td>\n",
              "      <td>-9.383863</td>\n",
              "    </tr>\n",
              "    <tr>\n",
              "      <th>4</th>\n",
              "      <td>-7.893002</td>\n",
              "      <td>-3.435127</td>\n",
              "      <td>-10.579138</td>\n",
              "      <td>-9.604462</td>\n",
              "    </tr>\n",
              "  </tbody>\n",
              "</table>\n",
              "</div>"
            ],
            "text/plain": [
              "    Previa 1   Previa 2   Previa 3   Previa 4\n",
              "0 -10.248932 -11.119048  -4.938926 -11.835306\n",
              "1  -5.560560  -6.078879  -3.851925 -11.217732\n",
              "2 -12.195170 -13.202318  -6.254161 -15.621740\n",
              "3  -7.229681  -7.123358  -6.151414  -9.383863\n",
              "4  -7.893002  -3.435127 -10.579138  -9.604462"
            ]
          },
          "execution_count": 7,
          "metadata": {},
          "output_type": "execute_result"
        }
      ],
      "source": [
        "MC.head()"
      ]
    },
    {
      "cell_type": "code",
      "execution_count": 8,
      "metadata": {
        "colab": {
          "base_uri": "https://localhost:8080/",
          "height": 175
        },
        "id": "9bQP8W-xVKYw",
        "outputId": "d5c4c77d-c506-46c6-ff2e-0364d0240067"
      },
      "outputs": [
        {
          "data": {
            "text/html": [
              "<div>\n",
              "<style scoped>\n",
              "    .dataframe tbody tr th:only-of-type {\n",
              "        vertical-align: middle;\n",
              "    }\n",
              "\n",
              "    .dataframe tbody tr th {\n",
              "        vertical-align: top;\n",
              "    }\n",
              "\n",
              "    .dataframe thead th {\n",
              "        text-align: right;\n",
              "    }\n",
              "</style>\n",
              "<table border=\"1\" class=\"dataframe\">\n",
              "  <thead>\n",
              "    <tr style=\"text-align: right;\">\n",
              "      <th></th>\n",
              "      <th>Previa 1</th>\n",
              "      <th>Previa 2</th>\n",
              "      <th>Previa 3</th>\n",
              "      <th>Previa 4</th>\n",
              "      <th>Estadística</th>\n",
              "    </tr>\n",
              "  </thead>\n",
              "  <tbody>\n",
              "    <tr>\n",
              "      <th>0</th>\n",
              "      <td>-7.424151</td>\n",
              "      <td>-7.770401</td>\n",
              "      <td>-8.052592</td>\n",
              "      <td>-8.181079</td>\n",
              "      <td>Media</td>\n",
              "    </tr>\n",
              "    <tr>\n",
              "      <th>1</th>\n",
              "      <td>43.694756</td>\n",
              "      <td>43.157326</td>\n",
              "      <td>41.065772</td>\n",
              "      <td>43.019639</td>\n",
              "      <td>CV %</td>\n",
              "    </tr>\n",
              "    <tr>\n",
              "      <th>2</th>\n",
              "      <td>-14.941448</td>\n",
              "      <td>-15.351694</td>\n",
              "      <td>-15.666705</td>\n",
              "      <td>-16.258230</td>\n",
              "      <td>IC Inf</td>\n",
              "    </tr>\n",
              "    <tr>\n",
              "      <th>3</th>\n",
              "      <td>-2.373145</td>\n",
              "      <td>-2.505088</td>\n",
              "      <td>-2.854737</td>\n",
              "      <td>-2.713897</td>\n",
              "      <td>IC Sup</td>\n",
              "    </tr>\n",
              "  </tbody>\n",
              "</table>\n",
              "</div>"
            ],
            "text/plain": [
              "    Previa 1   Previa 2   Previa 3   Previa 4 Estadística\n",
              "0  -7.424151  -7.770401  -8.052592  -8.181079       Media\n",
              "1  43.694756  43.157326  41.065772  43.019639        CV %\n",
              "2 -14.941448 -15.351694 -15.666705 -16.258230      IC Inf\n",
              "3  -2.373145  -2.505088  -2.854737  -2.713897      IC Sup"
            ]
          },
          "execution_count": 8,
          "metadata": {},
          "output_type": "execute_result"
        }
      ],
      "source": [
        "EST['Estadística'] = ['Media', 'CV %', 'IC Inf', 'IC Sup']\n",
        "EST.head()"
      ]
    },
    {
      "cell_type": "code",
      "execution_count": 9,
      "metadata": {
        "colab": {
          "base_uri": "https://localhost:8080/",
          "height": 762
        },
        "id": "x8HUG-f2ZIya",
        "outputId": "a416565a-e02b-433b-9b22-99144d3e0350"
      },
      "outputs": [
        {
          "data": {
            "image/png": "[encoded data removed]",
            "text/plain": [
              "<Figure size 720x576 with 4 Axes>"
            ]
          },
          "metadata": {
            "needs_background": "light"
          },
          "output_type": "display_data"
        }
      ],
      "source": [
        "fig, axes = plt.subplots(nrows=2, ncols=2, figsize=(10, 8))\n",
        "\n",
        "# Iterar sobre cada columna y crear un gráfico\n",
        "for i, columna in enumerate(MC.columns):\n",
        "    # Gráfico de distribución (histograma)\n",
        "    sns.histplot(MC[columna], ax=axes[i//2, i%2], kde=True, stat = 'density',\n",
        "                 color = 'gray', edgecolor = 'gray', bins = 30)\n",
        "    sns.kdeplot(MC[columna], ax=axes[i//2, i%2], color = 'red', label = 'Densidad')\n",
        "    axes[i//2, i%2].axvline(np.percentile(MC[columna], q = 2.5), color='green', linestyle='dashed', \n",
        "                            linewidth=2, label='IC 95%')\n",
        "    axes[i//2, i%2].axvline(np.percentile(MC[columna], q = 97.5), color='green', linestyle='dashed', linewidth=2)\n",
        "    axes[i//2, i%2].axvline(MC[columna].mean(), color='blue', linewidth=1.5, label = 'Media')\n",
        "    axes[i//2, i%2].set_xlabel(r'$\\eta$')\n",
        "    axes[i//2, i%2].set_ylabel(r'p$(\\eta | \\lambda_k)$')\n",
        "    axes[i//2, i%2].set_title(f'{columna}')\n",
        "    axes[i//2, i%2].legend()\n",
        "# Ajustar el diseño\n",
        "plt.tight_layout()\n",
        "plt.show()"
      ]
    },
    {
      "cell_type": "markdown",
      "metadata": {
        "id": "9rorlNXGOkEU"
      },
      "source": [
        "Las distribuciones posteriores revelan diferencias significativas en los tiempos de reparación entre ILEC y CLEC, respaldadas por IC del 95%. Las diferencias observadas sugieren que los tiempos de reparación de CLEC son, en promedio, más largos que los de ILEC. Además, el modelo es robusto dado que el estado de información previo, no está influyendo de manera sustancial en las inferencias de $\\eta$."
      ]
    },
    {
      "cell_type": "markdown",
      "metadata": {
        "id": "SrvgHKGJdqCk"
      },
      "source": [
        "### Bondad de ajuste\n",
        "\n",
        "En cada población, ILEC y CLEC, avaluaremos la bondad de ajuste con el estado de información 1 (previa 1), usando como estadísticos de pruebas la media y la desviación estándar."
      ]
    },
    {
      "cell_type": "code",
      "execution_count": 10,
      "metadata": {
        "colab": {
          "base_uri": "https://localhost:8080/",
          "height": 206
        },
        "id": "ZBZL-XDKd0lS",
        "outputId": "b8443503-9a77-4ccb-aaef-9795f0d9d714"
      },
      "outputs": [
        {
          "data": {
            "text/html": [
              "<div>\n",
              "<style scoped>\n",
              "    .dataframe tbody tr th:only-of-type {\n",
              "        vertical-align: middle;\n",
              "    }\n",
              "\n",
              "    .dataframe tbody tr th {\n",
              "        vertical-align: top;\n",
              "    }\n",
              "\n",
              "    .dataframe thead th {\n",
              "        text-align: right;\n",
              "    }\n",
              "</style>\n",
              "<table border=\"1\" class=\"dataframe\">\n",
              "  <thead>\n",
              "    <tr style=\"text-align: right;\">\n",
              "      <th></th>\n",
              "      <th>Media ILEC</th>\n",
              "      <th>SD ILEC</th>\n",
              "      <th>Media CLEC</th>\n",
              "      <th>SD CLEC</th>\n",
              "    </tr>\n",
              "  </thead>\n",
              "  <tbody>\n",
              "    <tr>\n",
              "      <th>0</th>\n",
              "      <td>8.343789</td>\n",
              "      <td>8.206009</td>\n",
              "      <td>10.252486</td>\n",
              "      <td>10.220875</td>\n",
              "    </tr>\n",
              "    <tr>\n",
              "      <th>1</th>\n",
              "      <td>8.664955</td>\n",
              "      <td>8.250844</td>\n",
              "      <td>19.087619</td>\n",
              "      <td>18.588316</td>\n",
              "    </tr>\n",
              "    <tr>\n",
              "      <th>2</th>\n",
              "      <td>8.623115</td>\n",
              "      <td>8.767013</td>\n",
              "      <td>10.737766</td>\n",
              "      <td>7.968213</td>\n",
              "    </tr>\n",
              "    <tr>\n",
              "      <th>3</th>\n",
              "      <td>8.405756</td>\n",
              "      <td>8.276202</td>\n",
              "      <td>15.344275</td>\n",
              "      <td>10.941654</td>\n",
              "    </tr>\n",
              "    <tr>\n",
              "      <th>4</th>\n",
              "      <td>9.033302</td>\n",
              "      <td>9.118327</td>\n",
              "      <td>20.545926</td>\n",
              "      <td>19.635762</td>\n",
              "    </tr>\n",
              "  </tbody>\n",
              "</table>\n",
              "</div>"
            ],
            "text/plain": [
              "   Media ILEC   SD ILEC  Media CLEC    SD CLEC\n",
              "0    8.343789  8.206009   10.252486  10.220875\n",
              "1    8.664955  8.250844   19.087619  18.588316\n",
              "2    8.623115  8.767013   10.737766   7.968213\n",
              "3    8.405756  8.276202   15.344275  10.941654\n",
              "4    9.033302  9.118327   20.545926  19.635762"
            ]
          },
          "execution_count": 10,
          "metadata": {},
          "output_type": "execute_result"
        }
      ],
      "source": [
        "column = ['Media ILEC', 'SD ILEC', 'Media CLEC', 'SD CLEC']\n",
        "BA = pd.DataFrame(np.empty((10000, 4)), columns = column)\n",
        "B = 10000\n",
        "np.random.seed(79)\n",
        "for b in range(0,B):\n",
        "    l1 = stats.invgamma.rvs(size = 1, a = a1p, scale = b1p)\n",
        "    y1 = stats.expon.rvs(size = n1, scale = l1)\n",
        "    l2 = stats.invgamma.rvs(size = 1, a = a2p, scale = b2p)\n",
        "    y2 = stats.expon.rvs(size = n2, scale = l2)\n",
        "    BA.iloc[b] = [y1.mean(), y1.std(), y2.mean(), y2.std()]\n",
        "BA.head()"
      ]
    },
    {
      "cell_type": "code",
      "execution_count": 11,
      "metadata": {
        "colab": {
          "base_uri": "https://localhost:8080/",
          "height": 609
        },
        "id": "RD5jV46zggNp",
        "outputId": "c6d1e40b-6ba9-4f05-ee89-201337892b7b"
      },
      "outputs": [
        {
          "data": {
            "image/png": "[encoded data removed]",
            "text/plain": [
              "<Figure size 432x432 with 3 Axes>"
            ]
          },
          "metadata": {
            "needs_background": "light"
          },
          "output_type": "display_data"
        }
      ],
      "source": [
        "(sns.jointplot(x=\"Media ILEC\", y=\"SD ILEC\", edgecolor=\"black\", color = 'black',\n",
        "              data = BA, s = 5, marginal_kws=dict(bins = 30, color = 'blue',edgecolor = 'blue'))\n",
        ".set_axis_labels('Media', 'Desvío Estandar')\n",
        ".fig.suptitle('Grupo 1 - ILEC'))\n",
        "qx = np.percentile(BA['Media ILEC'], [2.5, 97.5])\n",
        "qy = np.percentile(BA['SD ILEC'], [2.5, 97.5])\n",
        "plt.axvline(qx[0], linestyle='dashed', color='green', linewidth=2)\n",
        "plt.axvline(qx[1], linestyle='dashed', color='green', linewidth=2)\n",
        "plt.axhline(qy[0], linestyle='dashed', color='green', linewidth=2)\n",
        "plt.axhline(qy[1], linestyle='dashed', color='green', linewidth=2)\n",
        "plt.scatter(MeanY1, sdY1, color = 'red', edgecolor = 'red', marker = '^')\n",
        "plt.tight_layout()\n",
        "plt.show()"
      ]
    },
    {
      "cell_type": "code",
      "execution_count": 12,
      "metadata": {
        "colab": {
          "base_uri": "https://localhost:8080/",
          "height": 610
        },
        "id": "8hmueVRw1Oau",
        "outputId": "cea83244-ce2b-47fe-dcbb-39e0f71e5660"
      },
      "outputs": [
        {
          "data": {
            "image/png": "[encoded data removed]",
            "text/plain": [
              "<Figure size 432x432 with 3 Axes>"
            ]
          },
          "metadata": {
            "needs_background": "light"
          },
          "output_type": "display_data"
        }
      ],
      "source": [
        "(sns.jointplot(x=\"Media CLEC\", y=\"SD CLEC\", edgecolor=\"black\", color = 'black',\n",
        "              data = BA, s = 5, marginal_kws=dict(bins = 30, color = 'blue', edgecolor = 'blue'))\n",
        ".set_axis_labels('Media', 'Desvío Estandar').fig.suptitle('Grupo 2 - CLEC'))\n",
        "qx = np.percentile(BA['Media CLEC'], [2.5, 97.5])\n",
        "qy = np.percentile(BA['SD CLEC'], [2.5, 97.5])\n",
        "plt.axvline(qx[0], linestyle='dashed', color='green', linewidth=2)\n",
        "plt.axvline(qx[1], linestyle='dashed', color='green', linewidth=2)\n",
        "plt.axhline(qy[0], linestyle='dashed', color='green', linewidth=2)\n",
        "plt.axhline(qy[1], linestyle='dashed', color='green', linewidth=2)\n",
        "plt.scatter(x = MeanY2, y = sdY2, color = 'red', edgecolor = 'red', marker = '^')\n",
        "plt.tight_layout()\n",
        "plt.show()"
      ]
    },
    {
      "cell_type": "code",
      "execution_count": 13,
      "metadata": {
        "colab": {
          "base_uri": "https://localhost:8080/",
          "height": 112
        },
        "id": "w68iKcS3t2RO",
        "outputId": "ceb67e73-2216-4431-9978-9511fbc8f4d0"
      },
      "outputs": [
        {
          "data": {
            "text/html": [
              "<div>\n",
              "<style scoped>\n",
              "    .dataframe tbody tr th:only-of-type {\n",
              "        vertical-align: middle;\n",
              "    }\n",
              "\n",
              "    .dataframe tbody tr th {\n",
              "        vertical-align: top;\n",
              "    }\n",
              "\n",
              "    .dataframe thead th {\n",
              "        text-align: right;\n",
              "    }\n",
              "</style>\n",
              "<table border=\"1\" class=\"dataframe\">\n",
              "  <thead>\n",
              "    <tr style=\"text-align: right;\">\n",
              "      <th></th>\n",
              "      <th>Grupo</th>\n",
              "      <th>Media</th>\n",
              "      <th>SD</th>\n",
              "    </tr>\n",
              "  </thead>\n",
              "  <tbody>\n",
              "    <tr>\n",
              "      <th>0</th>\n",
              "      <td>ILEC</td>\n",
              "      <td>0.4961</td>\n",
              "      <td>0.0000</td>\n",
              "    </tr>\n",
              "    <tr>\n",
              "      <th>1</th>\n",
              "      <td>CLEC</td>\n",
              "      <td>0.3834</td>\n",
              "      <td>0.1626</td>\n",
              "    </tr>\n",
              "  </tbody>\n",
              "</table>\n",
              "</div>"
            ],
            "text/plain": [
              "  Grupo   Media      SD\n",
              "0  ILEC  0.4961  0.0000\n",
              "1  CLEC  0.3834  0.1626"
            ]
          },
          "execution_count": 13,
          "metadata": {},
          "output_type": "execute_result"
        }
      ],
      "source": [
        "#Valor P Predictivo Posterior - PPP\n",
        "pd.DataFrame({'Grupo': ['ILEC', 'CLEC'], 'Media': [np.mean(BA['Media ILEC'] > MeanY1),\n",
        "                                      np.mean(BA['Media CLEC'] > MeanY2)],\n",
        " 'SD':[np.mean(BA['SD ILEC'] > sdY1), np.mean(BA['SD CLEC'] > sdY2)]})"
      ]
    },
    {
      "cell_type": "markdown",
      "metadata": {
        "id": "_e8oyIB0v3CT"
      },
      "source": [
        "Atendiendo a las gráficas y tabla presentadas anteiormente, para CLEC se obtiene que tanto la media como el desvío estandar están siendo estimados correctamente dado que el valor p predictivo posterior - PPP se encuentra cercano a 0.5 y su valor observado está contenido en la región de credibilidad. Acto que solo sucede para la media de ILEC, ya que para el desvío estandar el PPP es 1 y el valor observado se encuentra en la cola derecha de la distribución, en consecuencia el modelo subestimada el desvío estandar para ILEC."
      ]
    },
    {
      "cell_type": "markdown",
      "metadata": {
        "id": "59n30BaYwNtj"
      },
      "source": [
        "## Análisis Frecuentista\n",
        "\n",
        "Con el estado de información de la Sección 2.1, se realizará análisis, usando la Normalidad asintótica del MLE, descrito en la Introducción, además del *Bootstrap* parámetrico, no parámetrico y por supuesto el Bayesiano. Para esto consideremos un total de 10000 replicaciones, por lo que se obtuvieron los resultados descritos a continuación"
      ]
    },
    {
      "cell_type": "code",
      "execution_count": 14,
      "metadata": {
        "colab": {
          "base_uri": "https://localhost:8080/",
          "height": 175
        },
        "id": "6mR4GhZbwLV4",
        "outputId": "bdf21f10-55b1-460c-c61f-784b718cd67a"
      },
      "outputs": [
        {
          "data": {
            "text/html": [
              "<div>\n",
              "<style scoped>\n",
              "    .dataframe tbody tr th:only-of-type {\n",
              "        vertical-align: middle;\n",
              "    }\n",
              "\n",
              "    .dataframe tbody tr th {\n",
              "        vertical-align: top;\n",
              "    }\n",
              "\n",
              "    .dataframe thead th {\n",
              "        text-align: right;\n",
              "    }\n",
              "</style>\n",
              "<table border=\"1\" class=\"dataframe\">\n",
              "  <thead>\n",
              "    <tr style=\"text-align: right;\">\n",
              "      <th></th>\n",
              "      <th>Método</th>\n",
              "      <th>Media</th>\n",
              "      <th>CV %</th>\n",
              "      <th>IC Inf</th>\n",
              "      <th>IC Sup</th>\n",
              "    </tr>\n",
              "  </thead>\n",
              "  <tbody>\n",
              "    <tr>\n",
              "      <th>0</th>\n",
              "      <td>Bayes</td>\n",
              "      <td>-7.519226</td>\n",
              "      <td>40.659543</td>\n",
              "      <td>-14.571913</td>\n",
              "      <td>-2.752657</td>\n",
              "    </tr>\n",
              "    <tr>\n",
              "      <th>1</th>\n",
              "      <td>Boostrap P</td>\n",
              "      <td>-8.083422</td>\n",
              "      <td>42.602072</td>\n",
              "      <td>-15.405966</td>\n",
              "      <td>-1.996098</td>\n",
              "    </tr>\n",
              "    <tr>\n",
              "      <th>2</th>\n",
              "      <td>Norm Asin.</td>\n",
              "      <td>-8.097520</td>\n",
              "      <td>42.587882</td>\n",
              "      <td>-14.856702</td>\n",
              "      <td>-1.338338</td>\n",
              "    </tr>\n",
              "    <tr>\n",
              "      <th>3</th>\n",
              "      <td>Boostrap NP</td>\n",
              "      <td>-8.122720</td>\n",
              "      <td>49.079982</td>\n",
              "      <td>-17.044742</td>\n",
              "      <td>-1.764961</td>\n",
              "    </tr>\n",
              "  </tbody>\n",
              "</table>\n",
              "</div>"
            ],
            "text/plain": [
              "        Método     Media       CV %     IC Inf    IC Sup\n",
              "0        Bayes -7.519226  40.659543 -14.571913 -2.752657\n",
              "1   Boostrap P -8.083422  42.602072 -15.405966 -1.996098\n",
              "2   Norm Asin. -8.097520  42.587882 -14.856702 -1.338338\n",
              "3  Boostrap NP -8.122720  49.079982 -17.044742 -1.764961"
            ]
          },
          "execution_count": 14,
          "metadata": {},
          "output_type": "execute_result"
        }
      ],
      "source": [
        "# Normalidad Asintótica\n",
        "def mle(meanY1, meanY2, n1, n2):\n",
        "    meanEta = meanY1 - meanY2\n",
        "    sd = np.sqrt(((meanY1**2) / n1) + ((meanY2**2) / n2))\n",
        "    cvEta = np.abs(sd / meanEta)\n",
        "    IC = [meanEta - (1.96 * sd), meanEta + (1.96 * sd)]\n",
        "    return {'meanEta': meanEta, 'cv': cvEta, 'IC': IC}\n",
        "\n",
        "#Boostrap parámetrico\n",
        "def bostP(B, mean_y1, mean_y2, n1, n2):\n",
        "    eta_hat = np.empty(B)\n",
        "    for i in range(B):\n",
        "        y1 = np.mean(stats.expon.rvs(scale=mean_y1, size=n1))\n",
        "        y2 = np.mean(stats.expon.rvs(scale=mean_y2, size=n2))\n",
        "        eta_hat[i] = y1 - y2\n",
        "    meanEtaP = np.mean(eta_hat)\n",
        "    cvEtaP = np.abs(np.std(eta_hat) / meanEtaP)\n",
        "    IC_P = np.percentile(eta_hat, q=[2.5, 97.5])\n",
        "\n",
        "    return {'meanEta': meanEtaP, 'cvEta': cvEtaP, 'IC': IC_P}\n",
        "\n",
        "#Boostrap no parámetrico\n",
        "def bostNP(B, sample1, sample2, n1, n2):\n",
        "    eta_hat = np.empty(B)\n",
        "    for i in range(B):\n",
        "        y1 = np.random.choice(sample1, size=n1, replace=True)\n",
        "        y2 = np.random.choice(sample2, size=n2, replace=True)\n",
        "        eta_hat[i] = np.mean(y1) - np.mean(y2)\n",
        "    meanEtaNP = np.mean(eta_hat)\n",
        "    cvEtaNP = np.abs(np.std(eta_hat) / np.mean(eta_hat))\n",
        "    IC_NP = np.percentile(eta_hat, q=[2.5, 97.5])\n",
        "\n",
        "    return {'meanEta': meanEtaNP, 'cvEta': cvEtaNP, 'IC': IC_NP}\n",
        "\n",
        "np.random.seed(79)\n",
        "Bp = bostP(10000, mean_y1 = MeanY1, mean_y2 = MeanY2, n1 = n1, n2 = n2)\n",
        "np.random.seed(79)\n",
        "Na = mle(meanY1 = MeanY1, meanY2 = MeanY2, n1 = n1, n2 = n2)\n",
        "np.random.seed(79)\n",
        "Bnp = bostNP(10000, sample1 = Y1, sample2 = Y2, n1 = n1, n2 = n2)\n",
        "\n",
        "pd.DataFrame({'Método': ['Bayes', 'Boostrap P', 'Norm Asin.' ,'Boostrap NP'],\n",
        "              'Media': [eta.mean(), Bp['meanEta'], Na['meanEta'], Bnp['meanEta']],\n",
        "              'CV %' : [(eta.std()/np.abs(eta.mean()))*100,\n",
        "                        Bp['cvEta']*100, Na['cv']*100, Bnp['cvEta']*100],\n",
        "              'IC Inf': [np.percentile(eta, q=2.5), Bp['IC'][0], Na['IC'][0],\n",
        "                         Bnp['IC'][0]],\n",
        "              'IC Sup': [np.percentile(eta, q=97.5), Bp['IC'][1], Na['IC'][1],\n",
        "                         Bnp['IC'][1]]})"
      ]
    },
    {
      "cell_type": "markdown",
      "metadata": {
        "id": "FGXEE9lY3d0K"
      },
      "source": [
        "Con la información de la Tabla anterior, es preciso mencionar que la diferencia del tiempo medio de reparación sigue siendo mayor para CLEC, además que se tiene una variablidad relativa considerable. Por otro lado, la diferencia promedio y del coeficiente de variación no varían sustancialmente, se mantienen en el mismo rango de valor para cada método. Así también, sus intervalos de confianza y de crediblidad."
      ]
    },
    {
      "cell_type": "markdown",
      "metadata": {
        "id": "ozMmjAM_370w"
      },
      "source": [
        "# Simulación\n",
        "\n",
        "A continuacion simularemos 100000 muestras exponenciales teniendo en cuenta los escenarios y ajusteremos un modelo de manera Bayesiana y Frecuentista (Normalidad asintotica, *Bootstrap* paramétrico y no paramétrico) y calcularemos la proporción de veces que el Intervalo de Confianza/Credibilidad 95\\% contiene el valor real:\n",
        "\n",
        "- Escenario 1: $n_1 = 10$, $n_2 = 10$, $\\lambda_1 = \\bar{y}_1$ y $\\lambda_2 = \\bar{y}_2$\n",
        "- Escenario 2: $n_1 = 20$, $n_2 = 20$, $\\lambda_1 = \\bar{y}_1$ y $\\lambda_2 = \\bar{y}_2$\n",
        "- Escenario 3: $n_1 = 50$, $n_2 = 50$, $\\lambda_1 = \\bar{y}_1$ y $\\lambda_2 = \\bar{y}_2$\n",
        "- Escenario 4: $n_1 = 100$, $n_2 = 100$, $\\lambda_1 = \\bar{y}_1$ y $\\lambda_2 = \\bar{y}_2$\n"
      ]
    },
    {
      "cell_type": "code",
      "execution_count": 49,
      "metadata": {},
      "outputs": [
        {
          "name": "stdout",
          "output_type": "stream",
          "text": [
            "Escenario 10 terminado...\n",
            "Escenario 20 terminado...\n",
            "Escenario 50 terminado...\n",
            "Escenario 100 terminado...\n"
          ]
        },
        {
          "data": {
            "text/html": [
              "<div>\n",
              "<style scoped>\n",
              "    .dataframe tbody tr th:only-of-type {\n",
              "        vertical-align: middle;\n",
              "    }\n",
              "\n",
              "    .dataframe tbody tr th {\n",
              "        vertical-align: top;\n",
              "    }\n",
              "\n",
              "    .dataframe thead th {\n",
              "        text-align: right;\n",
              "    }\n",
              "</style>\n",
              "<table border=\"1\" class=\"dataframe\">\n",
              "  <thead>\n",
              "    <tr style=\"text-align: right;\">\n",
              "      <th></th>\n",
              "      <th>n</th>\n",
              "      <th>Bayes</th>\n",
              "      <th>Normal</th>\n",
              "      <th>Boostrap P</th>\n",
              "      <th>Boostrap No P</th>\n",
              "    </tr>\n",
              "  </thead>\n",
              "  <tbody>\n",
              "    <tr>\n",
              "      <th>0</th>\n",
              "      <td>10</td>\n",
              "      <td>0.9303</td>\n",
              "      <td>0.9439</td>\n",
              "      <td>0.9376</td>\n",
              "      <td>0.8905</td>\n",
              "    </tr>\n",
              "    <tr>\n",
              "      <th>1</th>\n",
              "      <td>20</td>\n",
              "      <td>0.9327</td>\n",
              "      <td>0.9441</td>\n",
              "      <td>0.9382</td>\n",
              "      <td>0.9136</td>\n",
              "    </tr>\n",
              "    <tr>\n",
              "      <th>2</th>\n",
              "      <td>50</td>\n",
              "      <td>0.9463</td>\n",
              "      <td>0.9519</td>\n",
              "      <td>0.9483</td>\n",
              "      <td>0.9369</td>\n",
              "    </tr>\n",
              "    <tr>\n",
              "      <th>3</th>\n",
              "      <td>100</td>\n",
              "      <td>0.9463</td>\n",
              "      <td>0.9506</td>\n",
              "      <td>0.9478</td>\n",
              "      <td>0.9405</td>\n",
              "    </tr>\n",
              "  </tbody>\n",
              "</table>\n",
              "</div>"
            ],
            "text/plain": [
              "     n   Bayes  Normal  Boostrap P  Boostrap No P\n",
              "0   10  0.9303  0.9439      0.9376         0.8905\n",
              "1   20  0.9327  0.9441      0.9382         0.9136\n",
              "2   50  0.9463  0.9519      0.9483         0.9369\n",
              "3  100  0.9463  0.9506      0.9478         0.9405"
            ]
          },
          "execution_count": 49,
          "metadata": {},
          "output_type": "execute_result"
        }
      ],
      "source": [
        "ns = [10, 20, 50, 100]\n",
        "eta =  np.mean(Y1) - np.mean(Y2)\n",
        "\n",
        "#Simulación\n",
        "B = 1250\n",
        "#Por temas de tiempo se optó por simular solo 10.000 de las 100.000 inciales\n",
        "N = 10000\n",
        "out_sim_list = []\n",
        "np.random.seed(123)\n",
        "for n in ns:\n",
        "    out_bayes = 0\n",
        "    out_frec1 = 0\n",
        "    out_frec2 = 0\n",
        "    out_frec3 = 0\n",
        "    for _ in range(N):\n",
        "        yy1 = stats.expon.rvs(scale=lambda1, size=n)\n",
        "        yy2 = stats.expon.rvs(scale=lambda2, size=n)\n",
        "        yb1 = np.mean(yy1)\n",
        "        yb2 = np.mean(yy2)\n",
        "        \n",
        "        # Bayesiano: distribución previa 1\n",
        "        lam1_mc = stats.invgamma.rvs(size=B, a=ak + n, scale=(bk + n*yb1))\n",
        "        lam2_mc = stats.invgamma.rvs(size=B, a=ak + n, scale=(bk + n*yb2))\n",
        "        ic_bayes = np.percentile(lam1_mc - lam2_mc, [2.5, 97.5])\n",
        "        \n",
        "        #Frecuentista:Normalidad asintótica\n",
        "        ic_frec1 = yb1 - yb2 + np.array([-1, 1]) * (1.959964) * np.sqrt(yb1**2 / n + yb2**2 / n)\n",
        "        \n",
        "        #Frecuentista: bootstrap paramétrico y no parámetrico\n",
        "        eta_bp = np.mean(stats.expon.rvs(scale = yb1, size = (B, n)) - stats.expon.rvs(scale = yb2, size = (B, n)), \n",
        "                            axis = 1)\n",
        "        eta_bnp = np.mean(np.random.choice(yy1, size = (B,n), replace=True) - \n",
        "                          np.random.choice(yy2, size = (B,n), replace = True), \n",
        "                            axis = 1)\n",
        "        ic_frec2 = np.percentile(eta_bp, q=[2.5, 97.5])\n",
        "        ic_frec3 = np.percentile(eta_bnp, q=[2.5, 97.5])\n",
        "        \n",
        "        #Cobertura empírica\n",
        "        out_bayes += np.sum((ic_bayes[0] < eta) & (eta < ic_bayes[1]))/N\n",
        "        out_frec1 += np.sum((ic_frec1[0] < eta) & (eta < ic_frec1[1]))/N\n",
        "        out_frec2 += np.sum((ic_frec2[0] < eta) & (eta < ic_frec2[1]))/N\n",
        "        out_frec3 += np.sum((ic_frec3[0] < eta) & (eta < ic_frec3[1]))/N \n",
        "    out_sim_list.append({'n': n, 'Bayes': out_bayes, 'Normal': out_frec1, 'Boostrap P': out_frec2, \n",
        "                         'Boostrap No P': out_frec3})\n",
        "    print(\"Escenario\", n, \"terminado...\")\n",
        "pd.DataFrame(out_sim_list)"
      ]
    },
    {
      "cell_type": "markdown",
      "metadata": {},
      "source": [
        "Con la información de la Tabla anterior, podemos observar que a medida que aumenta el tamaño de la muestra (de 10 a 100), la cobertura empírica tiende a mejorar en todos los métodos. Esto es consistente con lo que esperaríamos, ya que con muestras más grandes, los estimadores y los intervalos de confianza suelen ser más precisos. Ahora bien, de los 4 escenarios la cobertura más robusta es el de la normalidad sintótica, seguido del *Bootstrap* paramétrico, los cuáles se comportan muy similar. En tercer lugar se tiene, al método Bayesiano y por último el *Bootstrap* no paramétrico el cuál inicia con la cobertura más baja que los demás métodos con un 89\\%."
      ]
    }
  ],
  "metadata": {
    "colab": {
      "collapsed_sections": [
        "sVjkHbbw0XAo",
        "59n30BaYwNtj"
      ],
      "provenance": []
    },
    "kernelspec": {
      "display_name": "Python 3.10.4 64-bit",
      "language": "python",
      "name": "python3"
    },
    "language_info": {
      "codemirror_mode": {
        "name": "ipython",
        "version": 3
      },
      "file_extension": ".py",
      "mimetype": "text/x-python",
      "name": "python",
      "nbconvert_exporter": "python",
      "pygments_lexer": "ipython3",
      "version": "3.10.4"
    },
    "vscode": {
      "interpreter": {
        "hash": "110fe3fb9777db4ce1f884af3cc527a40b2c98427ad17781c021ef692bd3d28d"
      }
    }
  },
  "nbformat": 4,
  "nbformat_minor": 0
}
